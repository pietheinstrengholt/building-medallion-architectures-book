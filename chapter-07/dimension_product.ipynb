{
 "cells": [
  {
   "cell_type": "code",
   "execution_count": null,
   "id": "82e61c69-315c-4d7b-b616-14b45df231e4",
   "metadata": {
    "jupyter": {
     "outputs_hidden": false,
     "source_hidden": false
    },
    "microsoft": {
     "language": "python",
     "language_group": "synapse_pyspark"
    },
    "nteract": {
     "transient": {
      "deleting": false
     }
    }
   },
   "outputs": [],
   "source": [
    "# Set up the session for V-Order writing\n",
    "\"spark.sql.parquet.vorder.enabled\", \"true\"\n",
    "\"spark.microsoft.delta.optimizeWrite.enabled\", \"true\"\n",
    "\"spark.microsoft.delta.optimizeWrite.binSize\", \"1073741824\""
   ]
  },
  {
   "cell_type": "code",
   "execution_count": null,
   "id": "1cf85dd8-7426-4ea3-8812-c0e97e837fad",
   "metadata": {
    "microsoft": {
     "language": "python",
     "language_group": "synapse_pyspark"
    }
   },
   "outputs": [],
   "source": [
    "from pyspark.sql.functions import *\n",
    "\n",
    "# Load data to the dataframes\n",
    "product = spark.read.table(\"silver.adventureworks.hist_product\") \\\n",
    ".where(col(\"current\") == True)\n",
    "product = product.dropDuplicates([\"ProductID\"])\n",
    "product = product[[\"ProductID\", \"Name\", \"ProductNumber\", \\\n",
    "\"Color\", \"Size\", \"Weight\", \"ProductCategoryID\", \"ProductModelID\"]]\n",
    "category = spark.read.table(\"silver.adventureworks.hist_productcategory\") \\\n",
    ".where(col(\"current\") == True)\n",
    "category = category.dropDuplicates([\"ProductCategoryID\"])\n",
    "category = category[[\"ProductCategoryID\", \"Name\"]]\n",
    "category = category.withColumnRenamed(\"Name\", \"CategoryName\")\n",
    "model = spark.read.table(\"silver.adventureworks.hist_productmodel\") \\\n",
    ".where(col(\"current\") == True)\n",
    "model = model.dropDuplicates([\"ProductModelID\"])\n",
    "model = model[[\"ProductModelID\", \"Name\", \"CatalogDescription\"]]\n",
    "model = model.withColumnRenamed(\"Name\", \"ProductModelName\")\n",
    "\n",
    "# Perform the joins\n",
    "dimension_product = product.join(category, on=\"ProductCategoryID\", how=\"left\")\n",
    "dimension_product = dimension_product.join(model, on=\"ProductModelID\", how=\"left\")\n",
    "\n",
    "# Select only the relevant columns\n",
    "dimension_product = dimension_product[[\"ProductID\", \"Name\", \"ProductNumber\", \\\n",
    "\"Color\", \"Size\", \"Weight\" , \"CategoryName\" , \"ProductModelName\"]]\n",
    "\n",
    "# Add hash code using all selected columns\n",
    "dimension_product = dimension_product.withColumn(\"ID\", \\\n",
    "sha2(concat_ws(\"||\", *dimension_product.columns), 256))"
   ]
  },
  {
   "cell_type": "code",
   "execution_count": null,
   "id": "565e1dbf-c6cc-4a21-8656-016a84d930c6",
   "metadata": {
    "jupyter": {
     "outputs_hidden": false,
     "source_hidden": false
    },
    "microsoft": {
     "language": "python",
     "language_group": "synapse_pyspark"
    },
    "nteract": {
     "transient": {
      "deleting": false
     }
    }
   },
   "outputs": [],
   "source": [
    "from delta.tables import *\n",
    "\n",
    "deltaTable = DeltaTable.forPath(spark, \\\n",
    "'Tables/adventureworks/dimension_product')\n",
    "       \n",
    "deltaTable.alias('gold') \\\n",
    "  .merge(\n",
    "    dimension_product.alias('updates'),\n",
    "    'gold.ID = updates.ID'\n",
    "  ).whenMatchedUpdate(set =\n",
    "    {\n",
    "      \"current_flag\": lit(\"1\"),\n",
    "      \"current_date\": current_date(),\n",
    "      \"end_date\": \"\"\"to_date('9999-12-31', 'yyyy-MM-dd')\"\"\"\n",
    "    }\n",
    "  ).whenNotMatchedInsert(values =\n",
    "    {\n",
    "      \"ID\": \"updates.ID\",\n",
    "      \"ProductID\": \"updates.ProductID\",\n",
    "      \"ProductNumber\": \"updates.ProductNumber\",\n",
    "      \"Color\": \"updates.Color\",\n",
    "      \"Size\": \"updates.Size\",\n",
    "      \"Weight\": \"updates.Weight\",\n",
    "      \"CategoryName\": \"updates.CategoryName\",\n",
    "      \"ProductModelName\": \"updates.ProductModelName\",\n",
    "      \"current_flag\": lit(\"1\"),\n",
    "      \"current_date\": current_date(),\n",
    "      \"end_date\": \"\"\"to_date('9999-12-31', 'yyyy-MM-dd')\"\"\"\n",
    "    }\n",
    "  ).whenNotMatchedBySourceUpdate(set =\n",
    "    {\n",
    "      \"current_flag\": lit(\"0\"),\n",
    "      \"end_date\": current_date()\n",
    "    }\n",
    "  ).execute()"
   ]
  }
 ],
 "metadata": {
  "dependencies": {
   "lakehouse": {
    "default_lakehouse": "89b49d86-b090-4126-b03c-263e6f504321",
    "default_lakehouse_name": "Gold",
    "default_lakehouse_workspace_id": "30950d63-22f3-4d65-8813-310477df47b4",
    "known_lakehouses": [
     {
      "id": "89b49d86-b090-4126-b03c-263e6f504321"
     }
    ]
   }
  },
  "kernel_info": {
   "name": "synapse_pyspark"
  },
  "kernelspec": {
   "display_name": "Synapse PySpark",
   "language": "Python",
   "name": "synapse_pyspark"
  },
  "language_info": {
   "name": "python"
  },
  "microsoft": {
   "language": "python",
   "language_group": "synapse_pyspark",
   "ms_spell_check": {
    "ms_spell_check_language": "en"
   }
  },
  "notebook_environment": {},
  "nteract": {
   "version": "nteract-front-end@1.0.0"
  },
  "save_output": true,
  "spark_compute": {
   "compute_id": "/trident/default",
   "session_options": {
    "conf": {
     "spark.synapse.nbs.session.timeout": "1200000"
    },
    "enableDebugMode": false
   }
  },
  "synapse_widget": {
   "state": {},
   "version": "0.1"
  },
  "widgets": {}
 },
 "nbformat": 4,
 "nbformat_minor": 5
}
