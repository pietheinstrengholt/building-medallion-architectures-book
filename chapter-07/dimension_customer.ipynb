{
 "cells": [
  {
   "cell_type": "code",
   "execution_count": null,
   "id": "6f664a59-cdef-4b05-ac8b-431e641ba6a3",
   "metadata": {
    "jupyter": {
     "outputs_hidden": false,
     "source_hidden": false
    },
    "microsoft": {
     "language": "python",
     "language_group": "synapse_pyspark"
    },
    "nteract": {
     "transient": {
      "deleting": false
     }
    }
   },
   "outputs": [],
   "source": [
    "# Set up the session for V-Order writing\n",
    "\"spark.sql.parquet.vorder.enabled\", \"true\"\n",
    "\"spark.microsoft.delta.optimizeWrite.enabled\", \"true\"\n",
    "\"spark.microsoft.delta.optimizeWrite.binSize\", \"1073741824\""
   ]
  },
  {
   "cell_type": "code",
   "execution_count": null,
   "id": "c7026276-e08d-4a81-aad3-7cb51d10828f",
   "metadata": {
    "microsoft": {
     "language": "python",
     "language_group": "synapse_pyspark"
    }
   },
   "outputs": [],
   "source": [
    "from pyspark.sql.functions import *\n",
    "\n",
    "# Load data to the dataframe as a starting point to create the gold layer\n",
    "customer = spark.read.table(\"silver.adventureworks.hist_customer\") \\\n",
    ".where(col(\"current\") == True)\n",
    "customer = customer.dropDuplicates([\"CustomerID\"])\n",
    "\n",
    "# Select only the relevant columns\n",
    "dimension_customer = customer[[\"CustomerID\", \"Title\", \"FirstName\", \\\n",
    "\"MiddleName\", \"LastName\", \"CompanyName\", \"EmailAddress\", \"Phone\"]]\n",
    "\n",
    "# Add hash code using all selected columns\n",
    "dimension_customer = dimension_customer.withColumn(\"ID\", \\\n",
    "sha2(concat_ws(\"||\", *dimension_customer.columns), 256))"
   ]
  },
  {
   "cell_type": "code",
   "execution_count": null,
   "id": "fdc7ca50-5af0-4b38-80bc-cdb6bd3bee71",
   "metadata": {
    "jupyter": {
     "outputs_hidden": false,
     "source_hidden": false
    },
    "microsoft": {
     "language": "python",
     "language_group": "synapse_pyspark"
    },
    "nteract": {
     "transient": {
      "deleting": false
     }
    }
   },
   "outputs": [],
   "source": [
    "from delta.tables import *\n",
    "\n",
    "deltaTable = DeltaTable.forPath(spark, \\\n",
    "'Tables/adventureworks/dimension_customer')\n",
    "\n",
    "deltaTable.alias('gold') \\\n",
    "  .merge(\n",
    "    dimension_customer.alias('updates'),\n",
    "    'gold.ID = updates.ID'\n",
    "  ).whenMatchedUpdate(set =\n",
    "    {\n",
    "      \"current_flag\": lit(\"1\"),\n",
    "      \"current_date\": current_date(),\n",
    "      \"end_date\": \"\"\"to_date('9999-12-31', 'yyyy-MM-dd')\"\"\"\n",
    "    }\n",
    "  ).whenNotMatchedInsert(values =\n",
    "    {\n",
    "      \"ID\": \"updates.ID\",\n",
    "      \"CustomerID\": \"updates.CustomerID\",\n",
    "      \"Title\": \"updates.Title\",\n",
    "      \"FirstName\": \"updates.FirstName\",\n",
    "      \"MiddleName\": \"updates.MiddleName\",\n",
    "      \"LastName\": \"updates.LastName\",\n",
    "      \"CompanyName\": \"updates.CompanyName\",\n",
    "      \"EmailAddress\": \"updates.EmailAddress\",\n",
    "      \"Phone\": \"updates.Phone\",\n",
    "      \"current_flag\": lit(\"1\"),\n",
    "      \"current_date\": current_date(),\n",
    "      \"end_date\": \"\"\"to_date('9999-12-31', 'yyyy-MM-dd')\"\"\"\n",
    "    }\n",
    "  ).whenNotMatchedBySourceUpdate(set =\n",
    "    {\n",
    "      \"current_flag\": lit(\"0\"),\n",
    "      \"end_date\": current_date()\n",
    "    }\n",
    "  ).execute()"
   ]
  }
 ],
 "metadata": {
  "dependencies": {
   "lakehouse": {
    "default_lakehouse": "89b49d86-b090-4126-b03c-263e6f504321",
    "default_lakehouse_name": "Gold",
    "default_lakehouse_workspace_id": "30950d63-22f3-4d65-8813-310477df47b4",
    "known_lakehouses": [
     {
      "id": "89b49d86-b090-4126-b03c-263e6f504321"
     }
    ]
   }
  },
  "kernel_info": {
   "name": "synapse_pyspark"
  },
  "kernelspec": {
   "display_name": "Synapse PySpark",
   "language": "Python",
   "name": "synapse_pyspark"
  },
  "language_info": {
   "name": "python"
  },
  "microsoft": {
   "language": "python",
   "language_group": "synapse_pyspark",
   "ms_spell_check": {
    "ms_spell_check_language": "en"
   }
  },
  "notebook_environment": {},
  "nteract": {
   "version": "nteract-front-end@1.0.0"
  },
  "save_output": true,
  "spark_compute": {
   "compute_id": "/trident/default",
   "session_options": {
    "conf": {
     "spark.synapse.nbs.session.timeout": "1200000"
    },
    "enableDebugMode": false
   }
  },
  "synapse_widget": {
   "state": {},
   "version": "0.1"
  },
  "widgets": {}
 },
 "nbformat": 4,
 "nbformat_minor": 5
}
