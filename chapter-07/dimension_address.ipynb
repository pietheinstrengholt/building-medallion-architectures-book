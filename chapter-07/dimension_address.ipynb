{
 "cells": [
  {
   "cell_type": "code",
   "execution_count": null,
   "id": "55c70a68-395c-4b10-8eae-5a1cc7ed994a",
   "metadata": {
    "jupyter": {
     "outputs_hidden": false,
     "source_hidden": false
    },
    "microsoft": {
     "language": "python",
     "language_group": "synapse_pyspark"
    },
    "nteract": {
     "transient": {
      "deleting": false
     }
    }
   },
   "outputs": [],
   "source": [
    "# Set up the session for V-Order writing\n",
    "\"spark.sql.parquet.vorder.enabled\", \"true\"\n",
    "\"spark.microsoft.delta.optimizeWrite.enabled\", \"true\"\n",
    "\"spark.microsoft.delta.optimizeWrite.binSize\", \"1073741824\""
   ]
  },
  {
   "cell_type": "code",
   "execution_count": null,
   "id": "423eb3fe-9fe6-41d9-89ce-5e014046113e",
   "metadata": {
    "microsoft": {
     "language": "python",
     "language_group": "synapse_pyspark"
    }
   },
   "outputs": [],
   "source": [
    "from pyspark.sql.functions import *\n",
    "\n",
    "# Load data to the DataFrame\n",
    "address = spark.read.table(\"silver.adventureworks.hist_address\") \\\n",
    ".where(col(\"current\") == True)\n",
    "address = address.dropDuplicates([\"AddressID\"])\n",
    "address = address[[\"AddressID\", \"AddressLine1\", \"AddressLine2\", \\\n",
    "\"City\", \"StateProvince\", \"CountryRegion\"]]\n",
    "\n",
    "# Add hash code using all selected columns\n",
    "dimension_address = address.withColumn(\"ID\", \\\n",
    "sha2(concat_ws(\"||\", *address.columns), 256))"
   ]
  },
  {
   "cell_type": "code",
   "execution_count": null,
   "id": "60ea3f74-4fd6-44f8-bf80-66d70947ea6f",
   "metadata": {
    "jupyter": {
     "outputs_hidden": false,
     "source_hidden": false
    },
    "microsoft": {
     "language": "python",
     "language_group": "synapse_pyspark"
    },
    "nteract": {
     "transient": {
      "deleting": false
     }
    }
   },
   "outputs": [],
   "source": [
    "from delta.tables import *\n",
    "\n",
    "deltaTable = DeltaTable.forPath(spark, \\\n",
    "'Tables/adventureworks/dimension_address')\n",
    "\n",
    "deltaTable.alias('gold') \\\n",
    "  .merge(\n",
    "    dimension_address.alias('updates'),\n",
    "    'gold.ID = updates.ID'\n",
    "  ).whenMatchedUpdate(set =\n",
    "    {\n",
    "      \"current_flag\": lit(\"1\"),\n",
    "      \"current_date\": current_date(),\n",
    "      \"end_date\": \"\"\"to_date('9999-12-31', 'yyyy-MM-dd')\"\"\"\n",
    "    }\n",
    "  ).whenNotMatchedInsert(values =\n",
    "    {\n",
    "      \"ID\": \"updates.ID\",\n",
    "      \"AddressID\": \"updates.AddressID\",\n",
    "      \"AddressLine1\": \"updates.AddressLine1\",\n",
    "      \"AddressLine2\": \"updates.AddressLine2\",\n",
    "      \"City\": \"updates.City\",\n",
    "      \"StateProvince\": \"updates.StateProvince\",\n",
    "      \"CountryRegion\": \"updates.CountryRegion\",\n",
    "      \"current_flag\": lit(\"1\"),\n",
    "      \"current_date\": current_date(),\n",
    "      \"end_date\": \"\"\"to_date('9999-12-31', 'yyyy-MM-dd')\"\"\"\n",
    "    }\n",
    "  ).whenNotMatchedBySourceUpdate(set =\n",
    "    {\n",
    "      \"current_flag\": lit(\"0\"),\n",
    "      \"end_date\": current_date()\n",
    "    }\n",
    "  ).execute()"
   ]
  }
 ],
 "metadata": {
  "dependencies": {
   "lakehouse": {
    "default_lakehouse": "89b49d86-b090-4126-b03c-263e6f504321",
    "default_lakehouse_name": "Gold",
    "default_lakehouse_workspace_id": "30950d63-22f3-4d65-8813-310477df47b4"
   }
  },
  "kernel_info": {
   "name": "synapse_pyspark"
  },
  "kernelspec": {
   "display_name": "Synapse PySpark",
   "language": "Python",
   "name": "synapse_pyspark"
  },
  "language_info": {
   "name": "python"
  },
  "microsoft": {
   "language": "python",
   "language_group": "synapse_pyspark",
   "ms_spell_check": {
    "ms_spell_check_language": "en"
   }
  },
  "nteract": {
   "version": "nteract-front-end@1.0.0"
  },
  "spark_compute": {
   "compute_id": "/trident/default",
   "session_options": {
    "conf": {
     "spark.synapse.nbs.session.timeout": "1200000"
    }
   }
  },
  "synapse_widget": {
   "state": {},
   "version": "0.1"
  },
  "widgets": {}
 },
 "nbformat": 4,
 "nbformat_minor": 5
}
