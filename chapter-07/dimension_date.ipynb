{
 "cells": [
  {
   "cell_type": "code",
   "execution_count": null,
   "id": "2423d867-dc74-46bd-882c-d7d380b8689b",
   "metadata": {
    "jupyter": {
     "outputs_hidden": false,
     "source_hidden": false
    },
    "microsoft": {
     "language": "python",
     "language_group": "synapse_pyspark"
    },
    "nteract": {
     "transient": {
      "deleting": false
     }
    }
   },
   "outputs": [],
   "source": [
    "# Set up the session for V-Order writing\n",
    "\"spark.sql.parquet.vorder.enabled\", \"true\"\n",
    "\"spark.microsoft.delta.optimizeWrite.enabled\", \"true\"\n",
    "\"spark.microsoft.delta.optimizeWrite.binSize\", \"1073741824\""
   ]
  },
  {
   "cell_type": "code",
   "execution_count": null,
   "id": "404dddf7-54f4-48f4-bddc-a3c9bcb3b8a0",
   "metadata": {
    "jupyter": {
     "outputs_hidden": false,
     "source_hidden": false
    },
    "microsoft": {
     "language": "python",
     "language_group": "synapse_pyspark"
    },
    "nteract": {
     "transient": {
      "deleting": false
     }
    }
   },
   "outputs": [],
   "source": [
    "from pyspark.sql.functions import *\n",
    "\n",
    "# Load data to the DataFrame\n",
    "dim_date = spark.read.table(\"silver.adventureworks.hist_salesorderheader\") \\\n",
    ".where(col(\"current\") == True)\n",
    "\n",
    "dim_date = dim_date.dropDuplicates([\"OrderDate\"]).select(col(\"OrderDate\"), \\\n",
    "        dayofmonth(\"OrderDate\").alias(\"Day\"), \\\n",
    "        month(\"OrderDate\").alias(\"Month\"), \\\n",
    "        year(\"OrderDate\").alias(\"Year\")\n",
    "    ).orderBy(\"OrderDate\")\n",
    "\n",
    "# Add hash code using all selected columns\n",
    "dim_date = dim_date.withColumn(\"ID\", \\\n",
    "sha2(concat_ws(\"||\", *dim_date.columns), 256))"
   ]
  },
  {
   "cell_type": "code",
   "execution_count": null,
   "id": "e0d5e21c-55ad-4694-ab24-c9e5cdcce4e3",
   "metadata": {
    "jupyter": {
     "outputs_hidden": false,
     "source_hidden": false
    },
    "microsoft": {
     "language": "python",
     "language_group": "synapse_pyspark"
    },
    "nteract": {
     "transient": {
      "deleting": false
     }
    }
   },
   "outputs": [],
   "source": [
    "from delta.tables import *\n",
    "\n",
    "deltaTable = DeltaTable.forPath(spark, \\\n",
    "'Tables/adventureworks/dimension_date')\n",
    "       \n",
    "deltaTable.alias('gold') \\\n",
    "  .merge(\n",
    "    dim_date.alias('updates'),\n",
    "    'gold.ID = updates.ID'\n",
    "  ).whenNotMatchedInsert(values =\n",
    "    {\n",
    "      \"ID\": \"updates.ID\",\n",
    "      \"OrderDate\": \"updates.OrderDate\",\n",
    "      \"Day\": \"updates.Day\",\n",
    "      \"Month\": \"updates.Month\",\n",
    "      \"Year\": \"updates.Year\",\n",
    "    }\n",
    "  ).execute()"
   ]
  }
 ],
 "metadata": {
  "dependencies": {
   "lakehouse": {
    "default_lakehouse": "89b49d86-b090-4126-b03c-263e6f504321",
    "default_lakehouse_name": "Gold",
    "default_lakehouse_workspace_id": "30950d63-22f3-4d65-8813-310477df47b4",
    "known_lakehouses": [
     {
      "id": "89b49d86-b090-4126-b03c-263e6f504321"
     },
     {
      "id": "5e948e85-b798-4967-bdad-a26c0a44d0cd"
     }
    ]
   }
  },
  "kernel_info": {
   "name": "synapse_pyspark"
  },
  "kernelspec": {
   "display_name": "Synapse PySpark",
   "language": "Python",
   "name": "synapse_pyspark"
  },
  "language_info": {
   "name": "python"
  },
  "microsoft": {
   "language": "python",
   "language_group": "synapse_pyspark",
   "ms_spell_check": {
    "ms_spell_check_language": "en"
   }
  },
  "nteract": {
   "version": "nteract-front-end@1.0.0"
  },
  "spark_compute": {
   "compute_id": "/trident/default",
   "session_options": {
    "conf": {
     "spark.synapse.nbs.session.timeout": "1200000"
    }
   }
  },
  "synapse_widget": {
   "state": {},
   "version": "0.1"
  },
  "widgets": {}
 },
 "nbformat": 4,
 "nbformat_minor": 5
}
